{
  "nbformat": 4,
  "nbformat_minor": 0,
  "metadata": {
    "colab": {
      "provenance": []
    },
    "kernelspec": {
      "name": "python3",
      "display_name": "Python 3"
    },
    "language_info": {
      "name": "python"
    }
  },
  "cells": [
    {
      "cell_type": "code",
      "execution_count": 1,
      "metadata": {
        "colab": {
          "base_uri": "https://localhost:8080/"
        },
        "id": "C9nHSYPVaVw2",
        "outputId": "185843ea-b86e-4eb9-dbb4-c55c76935704"
      },
      "outputs": [
        {
          "output_type": "stream",
          "name": "stderr",
          "text": [
            "<ipython-input-1-3cdb0073e4bf>:15: MatplotlibDeprecationWarning: The seaborn styles shipped by Matplotlib are deprecated since 3.6, as they no longer correspond to the styles shipped by seaborn. However, they will remain available as 'seaborn-v0_8-<style>'. Alternatively, directly use the seaborn API instead.\n",
            "  plt.style.use('seaborn')\n"
          ]
        }
      ],
      "source": [
        "#импорт библиотек\n",
        "import numpy as np #для матричных вычислений\n",
        "import pandas as pd #для анализа и предобработки данных\n",
        "import matplotlib.pyplot as plt #для визуализации\n",
        "import seaborn as sns #для визуализации\n",
        "\n",
        "from sklearn import linear_model #линейные моделиё\n",
        "from sklearn import tree #деревья решений\n",
        "from sklearn import ensemble #ансамбли\n",
        "from sklearn import metrics #метрики\n",
        "from sklearn import preprocessing #предобработка\n",
        "from sklearn.model_selection import train_test_split #сплитование выборки\n",
        "\n",
        "%matplotlib inline\n",
        "plt.style.use('seaborn')"
      ]
    },
    {
      "cell_type": "code",
      "source": [
        "!pip install optuna"
      ],
      "metadata": {
        "colab": {
          "base_uri": "https://localhost:8080/"
        },
        "id": "-eLYwiHsna7m",
        "outputId": "3c7fa889-e366-4512-da4b-391f05fb091e"
      },
      "execution_count": 3,
      "outputs": [
        {
          "output_type": "stream",
          "name": "stdout",
          "text": [
            "Looking in indexes: https://pypi.org/simple, https://us-python.pkg.dev/colab-wheels/public/simple/\n",
            "Collecting optuna\n",
            "  Downloading optuna-3.1.0-py3-none-any.whl (365 kB)\n",
            "\u001b[2K     \u001b[90m━━━━━━━━━━━━━━━━━━━━━━━━━━━━━━━━━━━━━━━\u001b[0m \u001b[32m365.3/365.3 KB\u001b[0m \u001b[31m9.4 MB/s\u001b[0m eta \u001b[36m0:00:00\u001b[0m\n",
            "\u001b[?25hRequirement already satisfied: numpy in /usr/local/lib/python3.9/dist-packages (from optuna) (1.22.4)\n",
            "Requirement already satisfied: PyYAML in /usr/local/lib/python3.9/dist-packages (from optuna) (6.0)\n",
            "Requirement already satisfied: tqdm in /usr/local/lib/python3.9/dist-packages (from optuna) (4.65.0)\n",
            "Collecting alembic>=1.5.0\n",
            "  Downloading alembic-1.10.3-py3-none-any.whl (212 kB)\n",
            "\u001b[2K     \u001b[90m━━━━━━━━━━━━━━━━━━━━━━━━━━━━━━━━━━━━━━\u001b[0m \u001b[32m212.3/212.3 KB\u001b[0m \u001b[31m21.1 MB/s\u001b[0m eta \u001b[36m0:00:00\u001b[0m\n",
            "\u001b[?25hRequirement already satisfied: packaging>=20.0 in /usr/local/lib/python3.9/dist-packages (from optuna) (23.0)\n",
            "Requirement already satisfied: sqlalchemy>=1.3.0 in /usr/local/lib/python3.9/dist-packages (from optuna) (1.4.47)\n",
            "Collecting cmaes>=0.9.1\n",
            "  Downloading cmaes-0.9.1-py3-none-any.whl (21 kB)\n",
            "Collecting colorlog\n",
            "  Downloading colorlog-6.7.0-py2.py3-none-any.whl (11 kB)\n",
            "Collecting Mako\n",
            "  Downloading Mako-1.2.4-py3-none-any.whl (78 kB)\n",
            "\u001b[2K     \u001b[90m━━━━━━━━━━━━━━━━━━━━━━━━━━━━━━━━━━━━━━━━\u001b[0m \u001b[32m78.7/78.7 KB\u001b[0m \u001b[31m2.1 MB/s\u001b[0m eta \u001b[36m0:00:00\u001b[0m\n",
            "\u001b[?25hRequirement already satisfied: typing-extensions>=4 in /usr/local/lib/python3.9/dist-packages (from alembic>=1.5.0->optuna) (4.5.0)\n",
            "Requirement already satisfied: greenlet!=0.4.17 in /usr/local/lib/python3.9/dist-packages (from sqlalchemy>=1.3.0->optuna) (2.0.2)\n",
            "Requirement already satisfied: MarkupSafe>=0.9.2 in /usr/local/lib/python3.9/dist-packages (from Mako->alembic>=1.5.0->optuna) (2.1.2)\n",
            "Installing collected packages: Mako, colorlog, cmaes, alembic, optuna\n",
            "Successfully installed Mako-1.2.4 alembic-1.10.3 cmaes-0.9.1 colorlog-6.7.0 optuna-3.1.0\n"
          ]
        }
      ]
    },
    {
      "cell_type": "code",
      "source": [
        "from sklearn.model_selection import GridSearchCV\n",
        "from sklearn.model_selection import RandomizedSearchCV\n",
        "from sklearn.model_selection import cross_val_score\n",
        "import hyperopt\n",
        "from hyperopt import hp, fmin, tpe, Trials\n",
        "import optuna\n",
        "from pandas._config import options"
      ],
      "metadata": {
        "id": "Hwoj-LsZdIIz"
      },
      "execution_count": 20,
      "outputs": []
    },
    {
      "cell_type": "code",
      "source": [
        "# подключаем google диск, где у нас хранятся данные\n",
        "from google.colab import drive\n",
        "drive.mount('/content/drive')\n",
        " # берем необходимый нам файл с диска, указав путь\n",
        "data = pd.read_csv('./drive/MyDrive/SF_data/_train_sem09 (1).csv')\n",
        "data.head()"
      ],
      "metadata": {
        "colab": {
          "base_uri": "https://localhost:8080/",
          "height": 253
        },
        "id": "wLJiSHd9ab0p",
        "outputId": "0b2f4ff5-4e1b-452e-f056-f413f439e994"
      },
      "execution_count": 5,
      "outputs": [
        {
          "output_type": "stream",
          "name": "stdout",
          "text": [
            "Mounted at /content/drive\n"
          ]
        },
        {
          "output_type": "execute_result",
          "data": {
            "text/plain": [
              "   Activity        D1        D2    D3   D4        D5        D6        D7  \\\n",
              "0         1  0.000000  0.497009  0.10  0.0  0.132956  0.678031  0.273166   \n",
              "1         1  0.366667  0.606291  0.05  0.0  0.111209  0.803455  0.106105   \n",
              "2         1  0.033300  0.480124  0.00  0.0  0.209791  0.610350  0.356453   \n",
              "3         1  0.000000  0.538825  0.00  0.5  0.196344  0.724230  0.235606   \n",
              "4         0  0.100000  0.517794  0.00  0.0  0.494734  0.781422  0.154361   \n",
              "\n",
              "         D8        D9  ...  D1767  D1768  D1769  D1770  D1771  D1772  D1773  \\\n",
              "0  0.585445  0.743663  ...      0      0      0      0      0      0      0   \n",
              "1  0.411754  0.836582  ...      1      1      1      1      0      1      0   \n",
              "2  0.517720  0.679051  ...      0      0      0      0      0      0      0   \n",
              "3  0.288764  0.805110  ...      0      0      0      0      0      0      0   \n",
              "4  0.303809  0.812646  ...      0      0      0      0      0      0      0   \n",
              "\n",
              "   D1774  D1775  D1776  \n",
              "0      0      0      0  \n",
              "1      0      1      0  \n",
              "2      0      0      0  \n",
              "3      0      0      0  \n",
              "4      0      0      0  \n",
              "\n",
              "[5 rows x 1777 columns]"
            ],
            "text/html": [
              "\n",
              "  <div id=\"df-537ed9a6-e7d7-4bd6-904a-f0e35806a84a\">\n",
              "    <div class=\"colab-df-container\">\n",
              "      <div>\n",
              "<style scoped>\n",
              "    .dataframe tbody tr th:only-of-type {\n",
              "        vertical-align: middle;\n",
              "    }\n",
              "\n",
              "    .dataframe tbody tr th {\n",
              "        vertical-align: top;\n",
              "    }\n",
              "\n",
              "    .dataframe thead th {\n",
              "        text-align: right;\n",
              "    }\n",
              "</style>\n",
              "<table border=\"1\" class=\"dataframe\">\n",
              "  <thead>\n",
              "    <tr style=\"text-align: right;\">\n",
              "      <th></th>\n",
              "      <th>Activity</th>\n",
              "      <th>D1</th>\n",
              "      <th>D2</th>\n",
              "      <th>D3</th>\n",
              "      <th>D4</th>\n",
              "      <th>D5</th>\n",
              "      <th>D6</th>\n",
              "      <th>D7</th>\n",
              "      <th>D8</th>\n",
              "      <th>D9</th>\n",
              "      <th>...</th>\n",
              "      <th>D1767</th>\n",
              "      <th>D1768</th>\n",
              "      <th>D1769</th>\n",
              "      <th>D1770</th>\n",
              "      <th>D1771</th>\n",
              "      <th>D1772</th>\n",
              "      <th>D1773</th>\n",
              "      <th>D1774</th>\n",
              "      <th>D1775</th>\n",
              "      <th>D1776</th>\n",
              "    </tr>\n",
              "  </thead>\n",
              "  <tbody>\n",
              "    <tr>\n",
              "      <th>0</th>\n",
              "      <td>1</td>\n",
              "      <td>0.000000</td>\n",
              "      <td>0.497009</td>\n",
              "      <td>0.10</td>\n",
              "      <td>0.0</td>\n",
              "      <td>0.132956</td>\n",
              "      <td>0.678031</td>\n",
              "      <td>0.273166</td>\n",
              "      <td>0.585445</td>\n",
              "      <td>0.743663</td>\n",
              "      <td>...</td>\n",
              "      <td>0</td>\n",
              "      <td>0</td>\n",
              "      <td>0</td>\n",
              "      <td>0</td>\n",
              "      <td>0</td>\n",
              "      <td>0</td>\n",
              "      <td>0</td>\n",
              "      <td>0</td>\n",
              "      <td>0</td>\n",
              "      <td>0</td>\n",
              "    </tr>\n",
              "    <tr>\n",
              "      <th>1</th>\n",
              "      <td>1</td>\n",
              "      <td>0.366667</td>\n",
              "      <td>0.606291</td>\n",
              "      <td>0.05</td>\n",
              "      <td>0.0</td>\n",
              "      <td>0.111209</td>\n",
              "      <td>0.803455</td>\n",
              "      <td>0.106105</td>\n",
              "      <td>0.411754</td>\n",
              "      <td>0.836582</td>\n",
              "      <td>...</td>\n",
              "      <td>1</td>\n",
              "      <td>1</td>\n",
              "      <td>1</td>\n",
              "      <td>1</td>\n",
              "      <td>0</td>\n",
              "      <td>1</td>\n",
              "      <td>0</td>\n",
              "      <td>0</td>\n",
              "      <td>1</td>\n",
              "      <td>0</td>\n",
              "    </tr>\n",
              "    <tr>\n",
              "      <th>2</th>\n",
              "      <td>1</td>\n",
              "      <td>0.033300</td>\n",
              "      <td>0.480124</td>\n",
              "      <td>0.00</td>\n",
              "      <td>0.0</td>\n",
              "      <td>0.209791</td>\n",
              "      <td>0.610350</td>\n",
              "      <td>0.356453</td>\n",
              "      <td>0.517720</td>\n",
              "      <td>0.679051</td>\n",
              "      <td>...</td>\n",
              "      <td>0</td>\n",
              "      <td>0</td>\n",
              "      <td>0</td>\n",
              "      <td>0</td>\n",
              "      <td>0</td>\n",
              "      <td>0</td>\n",
              "      <td>0</td>\n",
              "      <td>0</td>\n",
              "      <td>0</td>\n",
              "      <td>0</td>\n",
              "    </tr>\n",
              "    <tr>\n",
              "      <th>3</th>\n",
              "      <td>1</td>\n",
              "      <td>0.000000</td>\n",
              "      <td>0.538825</td>\n",
              "      <td>0.00</td>\n",
              "      <td>0.5</td>\n",
              "      <td>0.196344</td>\n",
              "      <td>0.724230</td>\n",
              "      <td>0.235606</td>\n",
              "      <td>0.288764</td>\n",
              "      <td>0.805110</td>\n",
              "      <td>...</td>\n",
              "      <td>0</td>\n",
              "      <td>0</td>\n",
              "      <td>0</td>\n",
              "      <td>0</td>\n",
              "      <td>0</td>\n",
              "      <td>0</td>\n",
              "      <td>0</td>\n",
              "      <td>0</td>\n",
              "      <td>0</td>\n",
              "      <td>0</td>\n",
              "    </tr>\n",
              "    <tr>\n",
              "      <th>4</th>\n",
              "      <td>0</td>\n",
              "      <td>0.100000</td>\n",
              "      <td>0.517794</td>\n",
              "      <td>0.00</td>\n",
              "      <td>0.0</td>\n",
              "      <td>0.494734</td>\n",
              "      <td>0.781422</td>\n",
              "      <td>0.154361</td>\n",
              "      <td>0.303809</td>\n",
              "      <td>0.812646</td>\n",
              "      <td>...</td>\n",
              "      <td>0</td>\n",
              "      <td>0</td>\n",
              "      <td>0</td>\n",
              "      <td>0</td>\n",
              "      <td>0</td>\n",
              "      <td>0</td>\n",
              "      <td>0</td>\n",
              "      <td>0</td>\n",
              "      <td>0</td>\n",
              "      <td>0</td>\n",
              "    </tr>\n",
              "  </tbody>\n",
              "</table>\n",
              "<p>5 rows × 1777 columns</p>\n",
              "</div>\n",
              "      <button class=\"colab-df-convert\" onclick=\"convertToInteractive('df-537ed9a6-e7d7-4bd6-904a-f0e35806a84a')\"\n",
              "              title=\"Convert this dataframe to an interactive table.\"\n",
              "              style=\"display:none;\">\n",
              "        \n",
              "  <svg xmlns=\"http://www.w3.org/2000/svg\" height=\"24px\"viewBox=\"0 0 24 24\"\n",
              "       width=\"24px\">\n",
              "    <path d=\"M0 0h24v24H0V0z\" fill=\"none\"/>\n",
              "    <path d=\"M18.56 5.44l.94 2.06.94-2.06 2.06-.94-2.06-.94-.94-2.06-.94 2.06-2.06.94zm-11 1L8.5 8.5l.94-2.06 2.06-.94-2.06-.94L8.5 2.5l-.94 2.06-2.06.94zm10 10l.94 2.06.94-2.06 2.06-.94-2.06-.94-.94-2.06-.94 2.06-2.06.94z\"/><path d=\"M17.41 7.96l-1.37-1.37c-.4-.4-.92-.59-1.43-.59-.52 0-1.04.2-1.43.59L10.3 9.45l-7.72 7.72c-.78.78-.78 2.05 0 2.83L4 21.41c.39.39.9.59 1.41.59.51 0 1.02-.2 1.41-.59l7.78-7.78 2.81-2.81c.8-.78.8-2.07 0-2.86zM5.41 20L4 18.59l7.72-7.72 1.47 1.35L5.41 20z\"/>\n",
              "  </svg>\n",
              "      </button>\n",
              "      \n",
              "  <style>\n",
              "    .colab-df-container {\n",
              "      display:flex;\n",
              "      flex-wrap:wrap;\n",
              "      gap: 12px;\n",
              "    }\n",
              "\n",
              "    .colab-df-convert {\n",
              "      background-color: #E8F0FE;\n",
              "      border: none;\n",
              "      border-radius: 50%;\n",
              "      cursor: pointer;\n",
              "      display: none;\n",
              "      fill: #1967D2;\n",
              "      height: 32px;\n",
              "      padding: 0 0 0 0;\n",
              "      width: 32px;\n",
              "    }\n",
              "\n",
              "    .colab-df-convert:hover {\n",
              "      background-color: #E2EBFA;\n",
              "      box-shadow: 0px 1px 2px rgba(60, 64, 67, 0.3), 0px 1px 3px 1px rgba(60, 64, 67, 0.15);\n",
              "      fill: #174EA6;\n",
              "    }\n",
              "\n",
              "    [theme=dark] .colab-df-convert {\n",
              "      background-color: #3B4455;\n",
              "      fill: #D2E3FC;\n",
              "    }\n",
              "\n",
              "    [theme=dark] .colab-df-convert:hover {\n",
              "      background-color: #434B5C;\n",
              "      box-shadow: 0px 1px 3px 1px rgba(0, 0, 0, 0.15);\n",
              "      filter: drop-shadow(0px 1px 2px rgba(0, 0, 0, 0.3));\n",
              "      fill: #FFFFFF;\n",
              "    }\n",
              "  </style>\n",
              "\n",
              "      <script>\n",
              "        const buttonEl =\n",
              "          document.querySelector('#df-537ed9a6-e7d7-4bd6-904a-f0e35806a84a button.colab-df-convert');\n",
              "        buttonEl.style.display =\n",
              "          google.colab.kernel.accessAllowed ? 'block' : 'none';\n",
              "\n",
              "        async function convertToInteractive(key) {\n",
              "          const element = document.querySelector('#df-537ed9a6-e7d7-4bd6-904a-f0e35806a84a');\n",
              "          const dataTable =\n",
              "            await google.colab.kernel.invokeFunction('convertToInteractive',\n",
              "                                                     [key], {});\n",
              "          if (!dataTable) return;\n",
              "\n",
              "          const docLinkHtml = 'Like what you see? Visit the ' +\n",
              "            '<a target=\"_blank\" href=https://colab.research.google.com/notebooks/data_table.ipynb>data table notebook</a>'\n",
              "            + ' to learn more about interactive tables.';\n",
              "          element.innerHTML = '';\n",
              "          dataTable['output_type'] = 'display_data';\n",
              "          await google.colab.output.renderOutput(dataTable, element);\n",
              "          const docLink = document.createElement('div');\n",
              "          docLink.innerHTML = docLinkHtml;\n",
              "          element.appendChild(docLink);\n",
              "        }\n",
              "      </script>\n",
              "    </div>\n",
              "  </div>\n",
              "  "
            ]
          },
          "metadata": {},
          "execution_count": 5
        }
      ]
    },
    {
      "cell_type": "markdown",
      "source": [
        "Данные представлены в формате CSV.  Каждая строка представляет молекулу. \n",
        "\n",
        "*    Первый столбец Activity содержит экспериментальные данные, описывающие фактический биологический ответ [0, 1]; \n",
        "*    Остальные столбцы D1-D1776 представляют собой молекулярные дескрипторы — это вычисляемые свойства, которые могут фиксировать некоторые характеристики молекулы, например размер, форму или состав элементов.\n"
      ],
      "metadata": {
        "id": "x5HKpnQaa46k"
      }
    },
    {
      "cell_type": "code",
      "source": [
        "# Смотрим на сбалансированность классов:\n",
        "sns.countplot(data=data, x='Activity')"
      ],
      "metadata": {
        "colab": {
          "base_uri": "https://localhost:8080/",
          "height": 520
        },
        "id": "0q28I3DQarSg",
        "outputId": "590710eb-f602-424a-ed69-e7ddf9bde29c"
      },
      "execution_count": 6,
      "outputs": [
        {
          "output_type": "execute_result",
          "data": {
            "text/plain": [
              "<Axes: xlabel='Activity', ylabel='count'>"
            ]
          },
          "metadata": {},
          "execution_count": 6
        },
        {
          "output_type": "display_data",
          "data": {
            "text/plain": [
              "<Figure size 800x550 with 1 Axes>"
            ],
            "image/png": "[encoded data removed]"
          },
          "metadata": {}
        }
      ]
    },
    {
      "cell_type": "code",
      "source": [
        "# Создаем матрицу наблюдений X и вектор ответов y:\n",
        "X = data.drop(['Activity'], axis=1)\n",
        "y = data['Activity']"
      ],
      "metadata": {
        "id": "_ORZGEgAb06v"
      },
      "execution_count": 7,
      "outputs": []
    },
    {
      "cell_type": "code",
      "source": [
        "# Разделяем выборку на тренировочную и тестовую в соотношении 80/20:\n",
        "X_train, X_test, y_train, y_test = train_test_split(X, y, stratify=y, random_state = 42, test_size = 0.2)"
      ],
      "metadata": {
        "id": "ZlaqniHDcQjd"
      },
      "execution_count": 8,
      "outputs": []
    },
    {
      "cell_type": "markdown",
      "source": [
        "## Логистическая регрессия\n"
      ],
      "metadata": {
        "id": "dECiU_h1ba9s"
      }
    },
    {
      "cell_type": "code",
      "source": [
        "#Создаем объект класса логистическая регрессия\n",
        "log_reg = linear_model.LogisticRegression(max_iter = 1000, random_state=42)\n",
        "#Обучаем модель, минимизируя logloss\n",
        "log_reg.fit(X_train, y_train)\n",
        "print(\"accuracy на тестовом наборе: {:.3f}\".format(log_reg.score(X_test, y_test)))\n",
        "y_test_pred = log_reg.predict(X_test)\n",
        "print('f1_score на тестовом наборе: {:.3f}'.format(metrics.f1_score(y_test, y_test_pred)))"
      ],
      "metadata": {
        "colab": {
          "base_uri": "https://localhost:8080/"
        },
        "id": "gspjOQjEbPiK",
        "outputId": "a73d8c3f-70e8-4dcd-f789-a8798e8c8719"
      },
      "execution_count": 9,
      "outputs": [
        {
          "output_type": "stream",
          "name": "stdout",
          "text": [
            "accuracy на тестовом наборе: 0.754\n",
            "f1_score на тестовом наборе: 0.777\n"
          ]
        }
      ]
    },
    {
      "cell_type": "markdown",
      "source": [
        "### Базовые методы"
      ],
      "metadata": {
        "id": "qCtEge-k1SnJ"
      }
    },
    {
      "cell_type": "markdown",
      "source": [
        "#### GridSearchCV"
      ],
      "metadata": {
        "id": "nEESzeC0c4u8"
      }
    },
    {
      "cell_type": "code",
      "source": [
        "param_grid = {'penalty': ['l2', 'l1', 'none'] ,#тип регурялизации\n",
        "              'solver': ['lbfgs', 'saga', 'liblinear'], #алгоритм оптимизации\n",
        "              }\n",
        "grid_search = GridSearchCV(\n",
        "    estimator=linear_model.LogisticRegression(\n",
        "        random_state=42, #генератор случайных чисел\n",
        "        max_iter=50 #количество итераций на сходимость\n",
        "    ), \n",
        "    param_grid=param_grid, \n",
        "    cv=5, \n",
        "    n_jobs = -1\n",
        ")  \n",
        "%time grid_search.fit(X_train, y_train) \n",
        "print(\"accuracy на тестовом наборе: {:.3f}\".format(grid_search.score(X_test, y_test)))\n",
        "y_test_pred = grid_search.predict(X_test)\n",
        "print('f1_score на тестовом наборе: {:.3f}'.format(metrics.f1_score(y_test, y_test_pred)))\n",
        "print(\"Наилучшие значения гиперпараметров: {}\".format(grid_search.best_params_))"
      ],
      "metadata": {
        "colab": {
          "base_uri": "https://localhost:8080/"
        },
        "id": "-0kyF-gocsrW",
        "outputId": "816bee06-f50b-4af4-8c44-229df6094d68"
      },
      "execution_count": 11,
      "outputs": [
        {
          "output_type": "stream",
          "name": "stderr",
          "text": [
            "/usr/local/lib/python3.9/dist-packages/sklearn/model_selection/_validation.py:378: FitFailedWarning: \n",
            "10 fits failed out of a total of 45.\n",
            "The score on these train-test partitions for these parameters will be set to nan.\n",
            "If these failures are not expected, you can try to debug them by setting error_score='raise'.\n",
            "\n",
            "Below are more details about the failures:\n",
            "--------------------------------------------------------------------------------\n",
            "5 fits failed with the following error:\n",
            "Traceback (most recent call last):\n",
            "  File \"/usr/local/lib/python3.9/dist-packages/sklearn/model_selection/_validation.py\", line 686, in _fit_and_score\n",
            "    estimator.fit(X_train, y_train, **fit_params)\n",
            "  File \"/usr/local/lib/python3.9/dist-packages/sklearn/linear_model/_logistic.py\", line 1162, in fit\n",
            "    solver = _check_solver(self.solver, self.penalty, self.dual)\n",
            "  File \"/usr/local/lib/python3.9/dist-packages/sklearn/linear_model/_logistic.py\", line 54, in _check_solver\n",
            "    raise ValueError(\n",
            "ValueError: Solver lbfgs supports only 'l2' or 'none' penalties, got l1 penalty.\n",
            "\n",
            "--------------------------------------------------------------------------------\n",
            "5 fits failed with the following error:\n",
            "Traceback (most recent call last):\n",
            "  File \"/usr/local/lib/python3.9/dist-packages/sklearn/model_selection/_validation.py\", line 686, in _fit_and_score\n",
            "    estimator.fit(X_train, y_train, **fit_params)\n",
            "  File \"/usr/local/lib/python3.9/dist-packages/sklearn/linear_model/_logistic.py\", line 1162, in fit\n",
            "    solver = _check_solver(self.solver, self.penalty, self.dual)\n",
            "  File \"/usr/local/lib/python3.9/dist-packages/sklearn/linear_model/_logistic.py\", line 71, in _check_solver\n",
            "    raise ValueError(\"penalty='none' is not supported for the liblinear solver\")\n",
            "ValueError: penalty='none' is not supported for the liblinear solver\n",
            "\n",
            "  warnings.warn(some_fits_failed_message, FitFailedWarning)\n",
            "/usr/local/lib/python3.9/dist-packages/sklearn/model_selection/_search.py:952: UserWarning: One or more of the test scores are non-finite: [0.74833333 0.75633333 0.75              nan 0.757      0.75766667\n",
            " 0.73533333 0.75333333        nan]\n",
            "  warnings.warn(\n"
          ]
        },
        {
          "output_type": "stream",
          "name": "stdout",
          "text": [
            "CPU times: user 1.69 s, sys: 98.4 ms, total: 1.79 s\n",
            "Wall time: 1min 10s\n",
            "accuracy на тестовом наборе: 0.750\n",
            "f1_score на тестовом наборе: 0.772\n",
            "Наилучшие значения гиперпараметров: {'penalty': 'l1', 'solver': 'liblinear'}\n"
          ]
        }
      ]
    },
    {
      "cell_type": "code",
      "source": [
        "param_grid = [\n",
        "              {'penalty': ['l2', 'none'] , # тип регуляризации\n",
        "              'solver': ['lbfgs', 'sag'], # алгоритм оптимизации\n",
        "               'C': list(np.linspace(0.01, 1, 10, dtype=float))}, # уровень силы регурялизации\n",
        "              \n",
        "              {'penalty': ['l1', 'l2'] ,\n",
        "              'solver': ['liblinear', 'saga'],\n",
        "               'C': list(np.linspace(0.01, 1, 10, dtype=float))}\n",
        "]\n",
        "grid_search_1 = GridSearchCV(\n",
        "    estimator=linear_model.LogisticRegression(random_state=42, max_iter=50), \n",
        "    param_grid=param_grid, \n",
        "    cv=5, \n",
        "    n_jobs = -1\n",
        ")  \n",
        "%time grid_search_1.fit(X_train, y_train) \n",
        "print(\"accuracy на тестовом наборе: {:.3f}\".format(grid_search_1.score(X_test, y_test)))\n",
        "y_test_pred = grid_search_1.predict(X_test)\n",
        "print('f1_score на тестовом наборе: {:.3f}'.format(metrics.f1_score(y_test, y_test_pred)))\n",
        "print(\"Наилучшие значения гиперпараметров: {}\".format(grid_search_1.best_params_))"
      ],
      "metadata": {
        "colab": {
          "base_uri": "https://localhost:8080/"
        },
        "id": "5QDOAgy5gHqW",
        "outputId": "bd5a80d0-7857-418c-9f84-22014495ccde"
      },
      "execution_count": 16,
      "outputs": [
        {
          "output_type": "stream",
          "name": "stdout",
          "text": [
            "CPU times: user 9.52 s, sys: 591 ms, total: 10.1 s\n",
            "Wall time: 12min 2s\n",
            "accuracy на тестовом наборе: 0.754\n",
            "f1_score на тестовом наборе: 0.783\n",
            "Наилучшие значения гиперпараметров: {'C': 0.34, 'penalty': 'l1', 'solver': 'saga'}\n"
          ]
        },
        {
          "output_type": "stream",
          "name": "stderr",
          "text": [
            "/usr/local/lib/python3.9/dist-packages/sklearn/linear_model/_sag.py:350: ConvergenceWarning: The max_iter was reached which means the coef_ did not converge\n",
            "  warnings.warn(\n"
          ]
        }
      ]
    },
    {
      "cell_type": "code",
      "source": [
        "result_cv = pd.DataFrame(grid_search_1.cv_results_)\n",
        "result_cv.shape\n"
      ],
      "metadata": {
        "colab": {
          "base_uri": "https://localhost:8080/"
        },
        "id": "Hj9rL_VkddVk",
        "outputId": "b5d9fbc4-a67b-45eb-e9ca-c6ea86ae5d7c"
      },
      "execution_count": 17,
      "outputs": [
        {
          "output_type": "execute_result",
          "data": {
            "text/plain": [
              "(80, 16)"
            ]
          },
          "metadata": {},
          "execution_count": 17
        }
      ]
    },
    {
      "cell_type": "code",
      "source": [
        "# отрисуем, как менялась точность при различных гиперпараметрах\n",
        "visual = pd.pivot_table(pd.DataFrame(grid_search_1.cv_results_),\n",
        "                        values='mean_test_score', index='param_C',\n",
        "                        columns='param_solver')\n",
        "sns.heatmap(visual)\n",
        "plt.title('Тепловая карта зависимости метрики accuracy от solver и С') # подпись графика\n",
        "sns.set(rc={'figure.figsize':(12, 8)}) #задаем размер графика"
      ],
      "metadata": {
        "colab": {
          "base_uri": "https://localhost:8080/",
          "height": 732
        },
        "id": "8S89pRiif6O5",
        "outputId": "dffe87b1-65de-4534-d68d-51d1dc40bf5a"
      },
      "execution_count": 18,
      "outputs": [
        {
          "output_type": "display_data",
          "data": {
            "text/plain": [
              "<Figure size 1200x800 with 2 Axes>"
            ],
            "image/png": "[encoded data removed]"
          },
          "metadata": {}
        }
      ]
    },
    {
      "cell_type": "markdown",
      "source": [
        "#### RandomizedSearchCV"
      ],
      "metadata": {
        "id": "1_2ByA7HhJze"
      }
    },
    {
      "cell_type": "code",
      "source": [
        "#np.linspace(start(от), stop(до), num=50(количество),dtype- тип данных)\n",
        "param_distributions = {'penalty': ['l1', 'none'] ,\n",
        "              'solver': ['liblinear', 'saga'],\n",
        "               'C': list(np.linspace(0.01, 1, 10, dtype=float))},\n",
        "            \n",
        "random_search = RandomizedSearchCV(\n",
        "    estimator=linear_model.LogisticRegression(random_state=42), \n",
        "    param_distributions=param_distributions, \n",
        "    cv=5, \n",
        "    n_iter = 50, \n",
        "    n_jobs = -1\n",
        ")  \n",
        "%time random_search.fit(X_train, y_train) \n",
        "print(\"accuracy на тестовом наборе: {:.3f}\".format(random_search.score(X_test, y_test)))\n",
        "y_test_pred = random_search.predict(X_test)\n",
        "print('f1_score на тестовом наборе: {:.3f}'.format(metrics.f1_score(y_test, y_test_pred)))\n",
        "print(\"Наилучшие значения гиперпараметров: {}\".format(random_search.best_params_))"
      ],
      "metadata": {
        "colab": {
          "base_uri": "https://localhost:8080/"
        },
        "id": "ve-c_52-gDOc",
        "outputId": "76d06851-0d75-4159-db56-707336d772cd"
      },
      "execution_count": 15,
      "outputs": [
        {
          "output_type": "stream",
          "name": "stderr",
          "text": [
            "/usr/local/lib/python3.9/dist-packages/sklearn/model_selection/_search.py:305: UserWarning: The total space of parameters 40 is smaller than n_iter=50. Running 40 iterations. For exhaustive searches, use GridSearchCV.\n",
            "  warnings.warn(\n",
            "/usr/local/lib/python3.9/dist-packages/sklearn/model_selection/_validation.py:378: FitFailedWarning: \n",
            "50 fits failed out of a total of 200.\n",
            "The score on these train-test partitions for these parameters will be set to nan.\n",
            "If these failures are not expected, you can try to debug them by setting error_score='raise'.\n",
            "\n",
            "Below are more details about the failures:\n",
            "--------------------------------------------------------------------------------\n",
            "50 fits failed with the following error:\n",
            "Traceback (most recent call last):\n",
            "  File \"/usr/local/lib/python3.9/dist-packages/sklearn/model_selection/_validation.py\", line 686, in _fit_and_score\n",
            "    estimator.fit(X_train, y_train, **fit_params)\n",
            "  File \"/usr/local/lib/python3.9/dist-packages/sklearn/linear_model/_logistic.py\", line 1162, in fit\n",
            "    solver = _check_solver(self.solver, self.penalty, self.dual)\n",
            "  File \"/usr/local/lib/python3.9/dist-packages/sklearn/linear_model/_logistic.py\", line 71, in _check_solver\n",
            "    raise ValueError(\"penalty='none' is not supported for the liblinear solver\")\n",
            "ValueError: penalty='none' is not supported for the liblinear solver\n",
            "\n",
            "  warnings.warn(some_fits_failed_message, FitFailedWarning)\n",
            "/usr/local/lib/python3.9/dist-packages/sklearn/model_selection/_search.py:952: UserWarning: One or more of the test scores are non-finite: [0.743      0.743             nan 0.75533333 0.76266667 0.76333333\n",
            "        nan 0.75533333 0.76433333 0.76566667        nan 0.75533333\n",
            " 0.76533333 0.766             nan 0.75533333 0.76566667 0.762\n",
            "        nan 0.75533333 0.76366667 0.76133333        nan 0.75533333\n",
            " 0.762      0.75866667        nan 0.75533333 0.76066667 0.75666667\n",
            "        nan 0.75533333 0.75766667 0.75633333        nan 0.75533333\n",
            " 0.75766667 0.75333333        nan 0.75533333]\n",
            "  warnings.warn(\n"
          ]
        },
        {
          "output_type": "stream",
          "name": "stdout",
          "text": [
            "CPU times: user 13.6 s, sys: 512 ms, total: 14.2 s\n",
            "Wall time: 11min 53s\n",
            "accuracy на тестовом наборе: 0.758\n",
            "f1_score на тестовом наборе: 0.784\n",
            "Наилучшие значения гиперпараметров: {'solver': 'saga', 'penalty': 'l1', 'C': 0.34}\n"
          ]
        },
        {
          "output_type": "stream",
          "name": "stderr",
          "text": [
            "/usr/local/lib/python3.9/dist-packages/sklearn/linear_model/_sag.py:350: ConvergenceWarning: The max_iter was reached which means the coef_ did not converge\n",
            "  warnings.warn(\n"
          ]
        }
      ]
    },
    {
      "cell_type": "markdown",
      "source": [
        "Таким образом, поиск гиперпараметров улучшил результат метрики, но не намного. Однако оба метода (GridSearchCV и RandomizedSearchCV) отобрали одинаковые параметры, время, затраченное на поиск параметров обоими методами практически равнозначно. \n",
        "\n",
        "Теперь попробуем найти параметры с помощью метода продвинутой оптимизации Hyperopt.\n"
      ],
      "metadata": {
        "id": "8-inl5zSb7Jx"
      }
    },
    {
      "cell_type": "markdown",
      "source": [
        "### Продвинутая оптимизация: Hyperopt"
      ],
      "metadata": {
        "id": "feT6V8IH8ydx"
      }
    },
    {
      "cell_type": "code",
      "source": [
        "# зададим пространство поиска гиперпараметров\n",
        "list_penalty=['l1', 'l2']\n",
        "list_solver=['liblinear', 'saga']\n",
        "space={'penalty': hp.choice(label='penalty', options=list_penalty),\n",
        "        'solver': hp.choice(label='solver', options=list_solver),\n",
        "            'C': hp.choice(label='C', options=list(np.linspace(0.01, 1, 10, dtype=float)))\n",
        "      }"
      ],
      "metadata": {
        "id": "4FUtqY7C8xmB"
      },
      "execution_count": 22,
      "outputs": []
    },
    {
      "cell_type": "code",
      "source": [
        "# зафксируем random_state\n",
        "random_state = 42\n",
        "def hyperopt_rf(params, cv=5, X=X_train, y=y_train, random_state=random_state):\n",
        "    # функция получает комбинацию гиперпараметров в \"params\"\n",
        "    params = {'penalty': str(params['penalty']),\n",
        "              'solver': str(params['solver']),\n",
        "              'C': float(params['C'])}\n",
        "    \n",
        "  \n",
        "    # используем эту комбинацию для построения модели\n",
        "    model = linear_model.LogisticRegression(**params, random_state=random_state)\n",
        "\n",
        "    # применим  cross validation с тем же количеством фолдов\n",
        "    score = cross_val_score(model, X_train, y_train, cv=5, scoring=\"f1\", n_jobs=-1).mean()\n",
        "\n",
        "    # метрику необходимо минимизировать, поэтому ставим знак минус\n",
        "    return -score"
      ],
      "metadata": {
        "id": "KHQ9u7lybdU2"
      },
      "execution_count": 23,
      "outputs": []
    },
    {
      "cell_type": "code",
      "source": [
        "# начинаем подбор гиперпараметров\n",
        "%%time\n",
        "\n",
        "trials = Trials() # используется для логирования результатов\n",
        "\n",
        "best=fmin(hyperopt_rf, # наша функция \n",
        "          space=space, # пространство гиперпараметров\n",
        "          algo=tpe.suggest, # алгоритм оптимизации, установлен по умолчанию, задавать необязательно\n",
        "          max_evals=20, # максимальное количество итераций\n",
        "          trials=trials, # логирование результатов\n",
        "          rstate=np.random.default_rng(random_state)# фиксируем для повторяемости результатаnp.random.RandomState\n",
        "         )\n",
        "print(\"Наилучшие значения гиперпараметров {}\".format(best))"
      ],
      "metadata": {
        "colab": {
          "base_uri": "https://localhost:8080/"
        },
        "id": "aKNQo8vsbdg7",
        "outputId": "6f6c31e8-510f-4a03-a288-a42260cef667"
      },
      "execution_count": 24,
      "outputs": [
        {
          "output_type": "stream",
          "name": "stdout",
          "text": [
            "100%|██████████| 20/20 [06:19<00:00, 18.96s/trial, best loss: -0.7901009826064027]\n",
            "Наилучшие значения гиперпараметров {'C': 3, 'penalty': 0, 'solver': 1}\n",
            "CPU times: user 2.96 s, sys: 793 ms, total: 3.75 s\n",
            "Wall time: 6min 19s\n"
          ]
        }
      ]
    },
    {
      "cell_type": "code",
      "source": [
        "print(list(np.linspace(0.01, 1, 10, dtype=float))[3])\n",
        "print(list_penalty[0])\n",
        "print(list_solver[1])"
      ],
      "metadata": {
        "colab": {
          "base_uri": "https://localhost:8080/"
        },
        "id": "U3JSid8M2EqG",
        "outputId": "d8806a4c-9a11-41d8-b91c-5fd33ceda2c8"
      },
      "execution_count": 28,
      "outputs": [
        {
          "output_type": "stream",
          "name": "stdout",
          "text": [
            "0.34\n",
            "l1\n",
            "saga\n"
          ]
        }
      ]
    },
    {
      "cell_type": "code",
      "source": [
        "# рассчитаем точность для тестовой выборки\n",
        "model = linear_model.LogisticRegression(  \n",
        "    random_state=42,\n",
        "    penalty=list_penalty[0],\n",
        "    solver=list_solver[1],\n",
        "    C=list(np.linspace(0.01, 1, 10, dtype=float))[3]\n",
        ")\n",
        "model.fit(X_train, y_train)\n",
        "y_train_pred = model.predict(X_train)\n",
        "\n",
        "print(\"accuracy на тестовом наборе: {:.3f}\".format(model.score(X_test, y_test)))\n",
        "y_test_pred = model.predict(X_test)\n",
        "print('f1_score на тестовом наборе: {:.3f}'.format(metrics.f1_score(y_test, y_test_pred)))"
      ],
      "metadata": {
        "colab": {
          "base_uri": "https://localhost:8080/"
        },
        "id": "ds-4WTFgeOCk",
        "outputId": "fdfe2b88-733f-4e81-9823-b370fff29a48"
      },
      "execution_count": 27,
      "outputs": [
        {
          "output_type": "stream",
          "name": "stdout",
          "text": [
            "accuracy на тестовом наборе: 0.758\n",
            "f1_score на тестовом наборе: 0.784\n"
          ]
        },
        {
          "output_type": "stream",
          "name": "stderr",
          "text": [
            "/usr/local/lib/python3.9/dist-packages/sklearn/linear_model/_sag.py:350: ConvergenceWarning: The max_iter was reached which means the coef_ did not converge\n",
            "  warnings.warn(\n"
          ]
        }
      ]
    },
    {
      "cell_type": "markdown",
      "source": [
        "Hyperopt отобрал те же параметры для логистической регрессии, что и другие методы поиска гиперпараметров, но время, затраченное на поиск, сократилось почти в два раза.\n",
        "\n",
        "Теперь применим к нашим данным модель Случайный лес."
      ],
      "metadata": {
        "id": "uXzWn6LonvB4"
      }
    },
    {
      "cell_type": "markdown",
      "source": [
        "## Случайный лес"
      ],
      "metadata": {
        "id": "m31a3HhfhipT"
      }
    },
    {
      "cell_type": "code",
      "source": [
        "#Создаем объект класса случайный лес\n",
        "rf = ensemble.RandomForestClassifier(random_state=42)\n",
        "\n",
        "#Обучаем модель\n",
        "rf.fit(X_train, y_train)\n",
        "#Выводим значения метрики \n",
        "y_train_pred = rf.predict(X_train)\n",
        "print('accuracy на тестовом наборе: {:.3f}'.format(random_search_forest.score(X_test, y_test)))\n",
        "y_test_pred = rf.predict(X_test)\n",
        "print('f1_score на тестовом наборе: {:.3f}'.format(metrics.f1_score(y_test, y_test_pred)))"
      ],
      "metadata": {
        "colab": {
          "base_uri": "https://localhost:8080/"
        },
        "id": "0PlgVKU-hmkV",
        "outputId": "c17929b6-00cc-4af7-f2c7-413853878869"
      },
      "execution_count": 32,
      "outputs": [
        {
          "output_type": "stream",
          "name": "stdout",
          "text": [
            "accuracy на тестовом наборе: 0.788\n",
            "f1_score на тестовом наборе: 0.805\n"
          ]
        }
      ]
    },
    {
      "cell_type": "markdown",
      "source": [
        "### Базовые методы: RandomizedSearchCV"
      ],
      "metadata": {
        "id": "2AzNtpDf1iEi"
      }
    },
    {
      "cell_type": "markdown",
      "source": [
        "Для экономии времени используем для поиска гиперпараметров только RandomizedSearchCV, т.к. этот метод был немного экономичнее по времени."
      ],
      "metadata": {
        "id": "bc6-mnKSlDMi"
      }
    },
    {
      "cell_type": "code",
      "source": [
        "param_distributions = {'n_estimators': list(range(100, 200, 10)),\n",
        "              'min_samples_leaf': [1,2,3,4,5,6,7],\n",
        "              'max_depth': list(np.linspace(20, 50, 2, dtype=int))\n",
        "              }\n",
        "            \n",
        "random_search_forest = RandomizedSearchCV(\n",
        "    estimator=ensemble.RandomForestClassifier(random_state=42), \n",
        "    param_distributions=param_distributions, \n",
        "    cv=5,\n",
        "    n_iter = 50, \n",
        "    n_jobs = -1\n",
        ")  \n",
        "%time random_search_forest.fit(X_train, y_train) \n",
        "y_train_pred = random_search_forest.predict(X_train)\n",
        "\n",
        "print(\"accuracy на тестовом наборе: {:.3f}\".format(random_search_forest.score(X_test, y_test)))\n",
        "y_test_pred = random_search_forest.predict(X_test)\n",
        "print('f1_score на тестовом наборе: {:.3f}'.format(metrics.f1_score(y_test, y_test_pred)))\n",
        "print(\"Наилучшие значения гиперпараметров: {}\".format(random_search_forest.best_params_))"
      ],
      "metadata": {
        "colab": {
          "base_uri": "https://localhost:8080/"
        },
        "id": "FMW3EZmolDkh",
        "outputId": "53fe5de3-2030-48b8-ebbd-79df64eb23ac"
      },
      "execution_count": 31,
      "outputs": [
        {
          "output_type": "stream",
          "name": "stdout",
          "text": [
            "CPU times: user 5.77 s, sys: 390 ms, total: 6.16 s\n",
            "Wall time: 7min 40s\n",
            "accuracy на тестовом наборе: 0.788\n",
            "f1_score на тестовом наборе: 0.809\n",
            "Наилучшие значения гиперпараметров: {'n_estimators': 130, 'min_samples_leaf': 1, 'max_depth': 20}\n"
          ]
        }
      ]
    },
    {
      "cell_type": "markdown",
      "source": [
        "### Продвинутая оптимизация.\n",
        "\n",
        "### Hyperopt"
      ],
      "metadata": {
        "id": "IWthLzq5nAy4"
      }
    },
    {
      "cell_type": "code",
      "source": [
        "# зададим пространство поиска гиперпараметров\n",
        "space={'n_estimators': hp.quniform('n_estimators', 100, 200, 1),\n",
        "       'max_depth' : hp.quniform('max_depth',15, 35, 1),\n",
        "       'min_samples_leaf': hp.quniform('min_samples_leaf', 1, 10, 1)\n",
        "      }\n"
      ],
      "metadata": {
        "id": "u3YTt2gwmTKP"
      },
      "execution_count": 33,
      "outputs": []
    },
    {
      "cell_type": "code",
      "source": [
        "# зафксируем random_state\n",
        "random_state = 42\n",
        "def hyperopt_rf(params, cv=5, X=X_train, y=y_train, random_state=random_state):\n",
        "    # функция получает комбинацию гиперпараметров в \"params\"\n",
        "    params = {'n_estimators': int(params['n_estimators']), \n",
        "              'max_depth': int(params['max_depth']), \n",
        "             'min_samples_leaf': int(params['min_samples_leaf'])\n",
        "              }\n",
        "  \n",
        "    # используем эту комбинацию для построения модели\n",
        "    model = ensemble.RandomForestClassifier(**params, random_state=random_state)\n",
        "\n",
        "    # обучаем модель\n",
        "    model.fit(X, y)\n",
        "    score = metrics.f1_score(y, model.predict(X))\n",
        "    \n",
        "    # обучать модель можно также с помощью кросс-валидации\n",
        "    # применим  cross validation с тем же количеством фолдов\n",
        "    # score = cross_val_score(model, X, y, cv=cv, scoring=\"f1\", n_jobs=-1).mean()\n",
        "\n",
        "    # метрику необходимо минимизировать, поэтому ставим знак минус\n",
        "    return -score"
      ],
      "metadata": {
        "id": "a4Kyu1oRn3wi"
      },
      "execution_count": 34,
      "outputs": []
    },
    {
      "cell_type": "code",
      "source": [
        "# начинаем подбор гиперпараметров\n",
        "%%time\n",
        "\n",
        "trials = Trials() # используется для логирования результатов\n",
        "\n",
        "best=fmin(hyperopt_rf, # наша функция \n",
        "          space=space, # пространство гиперпараметров\n",
        "          algo=tpe.suggest, # алгоритм оптимизации, установлен по умолчанию, задавать необязательно\n",
        "          max_evals=50, # максимальное количество итераций\n",
        "          trials=trials, # логирование результатов\n",
        "          rstate=np.random.default_rng(random_state)# фиксируем для повторяемости результатаnp.random.RandomState\n",
        "         )\n",
        "print(\"Наилучшие значения гиперпараметров {}\".format(best))"
      ],
      "metadata": {
        "colab": {
          "base_uri": "https://localhost:8080/"
        },
        "id": "Sh6GdkgnoCzb",
        "outputId": "024d10c4-0773-44ee-a636-5c4b6f9ae4c9"
      },
      "execution_count": 35,
      "outputs": [
        {
          "output_type": "stream",
          "name": "stdout",
          "text": [
            "100%|██████████| 50/50 [02:34<00:00,  3.10s/trial, best loss: -1.0]\n",
            "Наилучшие значения гиперпараметров {'max_depth': 21.0, 'min_samples_leaf': 1.0, 'n_estimators': 158.0}\n",
            "CPU times: user 2min 32s, sys: 1.12 s, total: 2min 33s\n",
            "Wall time: 2min 34s\n"
          ]
        }
      ]
    },
    {
      "cell_type": "code",
      "source": [
        "# рассчитаем точность для тестовой выборки\n",
        "model = ensemble.RandomForestClassifier(\n",
        "    random_state=random_state, \n",
        "    n_estimators=158,\n",
        "    max_depth=21, #int(best['max_depth']),\n",
        "    min_samples_leaf=1 #int(best['min_samples_leaf'])\n",
        ")\n",
        "model.fit(X_train, y_train)\n",
        "y_train_pred = model.predict(X_train)\n",
        "print('f1_score на обучающем наборе: {:.3f}'.format(metrics.f1_score(y_train, y_train_pred)))\n",
        "print(\"accuracy на тестовом наборе: {:.3f}\".format(model.score(X_test, y_test)))\n",
        "y_test_pred = model.predict(X_test)\n",
        "print('f1_score на тестовом наборе: {:.3f}'.format(metrics.f1_score(y_test, y_test_pred)))"
      ],
      "metadata": {
        "colab": {
          "base_uri": "https://localhost:8080/"
        },
        "id": "zVCLiHhFoG3s",
        "outputId": "efbe4fa3-db9d-4ed2-c911-406c6f40e852"
      },
      "execution_count": 53,
      "outputs": [
        {
          "output_type": "stream",
          "name": "stdout",
          "text": [
            "f1_score на обучающем наборе: 1.000\n",
            "accuracy на тестовом наборе: 0.791\n",
            "f1_score на тестовом наборе: 0.810\n"
          ]
        }
      ]
    },
    {
      "cell_type": "markdown",
      "source": [
        "### Optuna"
      ],
      "metadata": {
        "id": "giL3J6aXppYp"
      }
    },
    {
      "cell_type": "code",
      "source": [
        "def optuna_rf(trial):\n",
        "  # задаем пространства поиска гиперпараметров\n",
        "  n_estimators = trial.suggest_int('n_estimators', 100, 200, 10)\n",
        "  max_depth = trial.suggest_int('max_depth', 15, 35, 1)\n",
        "  min_samples_leaf = trial.suggest_int('min_samples_leaf', 1, 10, 1)\n",
        "\n",
        "  # создаем модель\n",
        "  model = ensemble.RandomForestClassifier(n_estimators=n_estimators,\n",
        "                                          max_depth=max_depth,\n",
        "                                          min_samples_leaf=min_samples_leaf,\n",
        "                                          random_state=random_state)\n",
        "  # обучаем модель\n",
        "  model.fit(X_train, y_train)\n",
        "  score = metrics.f1_score(y_train, model.predict(X_train))\n",
        "\n",
        "  return score"
      ],
      "metadata": {
        "id": "2QcKJyzyo7Px"
      },
      "execution_count": 41,
      "outputs": []
    },
    {
      "cell_type": "code",
      "source": [
        "%%time\n",
        "# cоздаем объект исследования\n",
        "# можем напрямую указать, что нам необходимо максимизировать метрику direction=\"maximize\"\n",
        "study = optuna.create_study(study_name=\"RandomForestClassifier\", direction=\"maximize\")\n",
        "# ищем лучшую комбинацию гиперпараметров n_trials раз\n",
        "study.optimize(optuna_rf, n_trials=50)"
      ],
      "metadata": {
        "colab": {
          "base_uri": "https://localhost:8080/"
        },
        "id": "c39l9lC0pE-X",
        "outputId": "83757f9b-c308-474e-ba88-9e6dc445b187"
      },
      "execution_count": 42,
      "outputs": [
        {
          "output_type": "stream",
          "name": "stderr",
          "text": [
            "\u001b[32m[I 2023-04-06 03:57:19,721]\u001b[0m A new study created in memory with name: RandomForestClassifier\u001b[0m\n",
            "\u001b[32m[I 2023-04-06 03:57:22,334]\u001b[0m Trial 0 finished with value: 0.8982072318444242 and parameters: {'n_estimators': 140, 'max_depth': 33, 'min_samples_leaf': 10}. Best is trial 0 with value: 0.8982072318444242.\u001b[0m\n",
            "\u001b[32m[I 2023-04-06 03:57:25,835]\u001b[0m Trial 1 finished with value: 0.9886607416487896 and parameters: {'n_estimators': 180, 'max_depth': 18, 'min_samples_leaf': 2}. Best is trial 1 with value: 0.9886607416487896.\u001b[0m\n",
            "\u001b[32m[I 2023-04-06 03:57:29,722]\u001b[0m Trial 2 finished with value: 0.9087022900763359 and parameters: {'n_estimators': 200, 'max_depth': 16, 'min_samples_leaf': 8}. Best is trial 1 with value: 0.9886607416487896.\u001b[0m\n",
            "\u001b[32m[I 2023-04-06 03:57:32,227]\u001b[0m Trial 3 finished with value: 0.8982072318444242 and parameters: {'n_estimators': 140, 'max_depth': 25, 'min_samples_leaf': 10}. Best is trial 1 with value: 0.9886607416487896.\u001b[0m\n",
            "\u001b[32m[I 2023-04-06 03:57:33,868]\u001b[0m Trial 4 finished with value: 0.8938750758035171 and parameters: {'n_estimators': 110, 'max_depth': 30, 'min_samples_leaf': 10}. Best is trial 1 with value: 0.9886607416487896.\u001b[0m\n",
            "\u001b[32m[I 2023-04-06 03:57:36,795]\u001b[0m Trial 5 finished with value: 0.9722137404580152 and parameters: {'n_estimators': 160, 'max_depth': 20, 'min_samples_leaf': 3}. Best is trial 1 with value: 0.9886607416487896.\u001b[0m\n",
            "\u001b[32m[I 2023-04-06 03:57:38,809]\u001b[0m Trial 6 finished with value: 0.9210686095931998 and parameters: {'n_estimators': 130, 'max_depth': 26, 'min_samples_leaf': 7}. Best is trial 1 with value: 0.9886607416487896.\u001b[0m\n",
            "\u001b[32m[I 2023-04-06 03:57:40,525]\u001b[0m Trial 7 finished with value: 0.9417860408412069 and parameters: {'n_estimators': 100, 'max_depth': 30, 'min_samples_leaf': 5}. Best is trial 1 with value: 0.9886607416487896.\u001b[0m\n",
            "\u001b[32m[I 2023-04-06 03:57:44,010]\u001b[0m Trial 8 finished with value: 0.9990783410138249 and parameters: {'n_estimators': 130, 'max_depth': 19, 'min_samples_leaf': 1}. Best is trial 8 with value: 0.9990783410138249.\u001b[0m\n",
            "\u001b[32m[I 2023-04-06 03:57:46,190]\u001b[0m Trial 9 finished with value: 0.8938750758035171 and parameters: {'n_estimators': 110, 'max_depth': 34, 'min_samples_leaf': 10}. Best is trial 8 with value: 0.9990783410138249.\u001b[0m\n",
            "\u001b[32m[I 2023-04-06 03:57:49,570]\u001b[0m Trial 10 finished with value: 1.0 and parameters: {'n_estimators': 160, 'max_depth': 22, 'min_samples_leaf': 1}. Best is trial 10 with value: 1.0.\u001b[0m\n",
            "\u001b[32m[I 2023-04-06 03:57:52,933]\u001b[0m Trial 11 finished with value: 1.0 and parameters: {'n_estimators': 160, 'max_depth': 22, 'min_samples_leaf': 1}. Best is trial 10 with value: 1.0.\u001b[0m\n",
            "\u001b[32m[I 2023-04-06 03:57:55,918]\u001b[0m Trial 12 finished with value: 0.9567600487210719 and parameters: {'n_estimators': 170, 'max_depth': 23, 'min_samples_leaf': 4}. Best is trial 10 with value: 1.0.\u001b[0m\n",
            "\u001b[32m[I 2023-04-06 03:58:01,181]\u001b[0m Trial 13 finished with value: 1.0 and parameters: {'n_estimators': 190, 'max_depth': 22, 'min_samples_leaf': 1}. Best is trial 10 with value: 1.0.\u001b[0m\n",
            "\u001b[32m[I 2023-04-06 03:58:04,057]\u001b[0m Trial 14 finished with value: 0.9646772228989038 and parameters: {'n_estimators': 160, 'max_depth': 15, 'min_samples_leaf': 3}. Best is trial 10 with value: 1.0.\u001b[0m\n",
            "\u001b[32m[I 2023-04-06 03:58:07,457]\u001b[0m Trial 15 finished with value: 1.0 and parameters: {'n_estimators': 160, 'max_depth': 27, 'min_samples_leaf': 1}. Best is trial 10 with value: 1.0.\u001b[0m\n",
            "\u001b[32m[I 2023-04-06 03:58:10,929]\u001b[0m Trial 16 finished with value: 0.9752369306022622 and parameters: {'n_estimators': 180, 'max_depth': 22, 'min_samples_leaf': 3}. Best is trial 10 with value: 1.0.\u001b[0m\n",
            "\u001b[32m[I 2023-04-06 03:58:14,410]\u001b[0m Trial 17 finished with value: 0.9281364190012181 and parameters: {'n_estimators': 150, 'max_depth': 24, 'min_samples_leaf': 6}. Best is trial 10 with value: 1.0.\u001b[0m\n",
            "\u001b[32m[I 2023-04-06 03:58:17,865]\u001b[0m Trial 18 finished with value: 0.9880551301684534 and parameters: {'n_estimators': 170, 'max_depth': 20, 'min_samples_leaf': 2}. Best is trial 10 with value: 1.0.\u001b[0m\n",
            "\u001b[32m[I 2023-04-06 03:58:20,407]\u001b[0m Trial 19 finished with value: 0.9429356118400977 and parameters: {'n_estimators': 150, 'max_depth': 27, 'min_samples_leaf': 5}. Best is trial 10 with value: 1.0.\u001b[0m\n",
            "\u001b[32m[I 2023-04-06 03:58:24,169]\u001b[0m Trial 20 finished with value: 0.9865443425076453 and parameters: {'n_estimators': 200, 'max_depth': 17, 'min_samples_leaf': 2}. Best is trial 10 with value: 1.0.\u001b[0m\n",
            "\u001b[32m[I 2023-04-06 03:58:29,398]\u001b[0m Trial 21 finished with value: 1.0 and parameters: {'n_estimators': 190, 'max_depth': 22, 'min_samples_leaf': 1}. Best is trial 10 with value: 1.0.\u001b[0m\n",
            "\u001b[32m[I 2023-04-06 03:58:33,183]\u001b[0m Trial 22 finished with value: 1.0 and parameters: {'n_estimators': 180, 'max_depth': 21, 'min_samples_leaf': 1}. Best is trial 10 with value: 1.0.\u001b[0m\n",
            "\u001b[32m[I 2023-04-06 03:58:36,849]\u001b[0m Trial 23 finished with value: 0.9917101627264354 and parameters: {'n_estimators': 190, 'max_depth': 23, 'min_samples_leaf': 2}. Best is trial 10 with value: 1.0.\u001b[0m\n",
            "\u001b[32m[I 2023-04-06 03:58:40,098]\u001b[0m Trial 24 finished with value: 0.9576606762107828 and parameters: {'n_estimators': 170, 'max_depth': 25, 'min_samples_leaf': 4}. Best is trial 10 with value: 1.0.\u001b[0m\n",
            "\u001b[32m[I 2023-04-06 03:58:45,059]\u001b[0m Trial 25 finished with value: 0.9993853718500307 and parameters: {'n_estimators': 190, 'max_depth': 19, 'min_samples_leaf': 1}. Best is trial 10 with value: 1.0.\u001b[0m\n",
            "\u001b[32m[I 2023-04-06 03:58:47,564]\u001b[0m Trial 26 finished with value: 0.9561510353227771 and parameters: {'n_estimators': 140, 'max_depth': 29, 'min_samples_leaf': 4}. Best is trial 10 with value: 1.0.\u001b[0m\n",
            "\u001b[32m[I 2023-04-06 03:58:50,673]\u001b[0m Trial 27 finished with value: 0.989260509358699 and parameters: {'n_estimators': 160, 'max_depth': 21, 'min_samples_leaf': 2}. Best is trial 10 with value: 1.0.\u001b[0m\n",
            "\u001b[32m[I 2023-04-06 03:58:53,056]\u001b[0m Trial 28 finished with value: 0.9734026291653929 and parameters: {'n_estimators': 130, 'max_depth': 23, 'min_samples_leaf': 3}. Best is trial 10 with value: 1.0.\u001b[0m\n",
            "\u001b[32m[I 2023-04-06 03:58:57,146]\u001b[0m Trial 29 finished with value: 0.9993853718500307 and parameters: {'n_estimators': 150, 'max_depth': 18, 'min_samples_leaf': 1}. Best is trial 10 with value: 1.0.\u001b[0m\n",
            "\u001b[32m[I 2023-04-06 03:59:00,834]\u001b[0m Trial 30 finished with value: 0.9895769466584917 and parameters: {'n_estimators': 170, 'max_depth': 21, 'min_samples_leaf': 2}. Best is trial 10 with value: 1.0.\u001b[0m\n",
            "\u001b[32m[I 2023-04-06 03:59:04,355]\u001b[0m Trial 31 finished with value: 1.0 and parameters: {'n_estimators': 160, 'max_depth': 28, 'min_samples_leaf': 1}. Best is trial 10 with value: 1.0.\u001b[0m\n",
            "\u001b[32m[I 2023-04-06 03:59:08,139]\u001b[0m Trial 32 finished with value: 1.0 and parameters: {'n_estimators': 180, 'max_depth': 26, 'min_samples_leaf': 1}. Best is trial 10 with value: 1.0.\u001b[0m\n",
            "\u001b[32m[I 2023-04-06 03:59:12,534]\u001b[0m Trial 33 finished with value: 0.99079754601227 and parameters: {'n_estimators': 160, 'max_depth': 31, 'min_samples_leaf': 2}. Best is trial 10 with value: 1.0.\u001b[0m\n",
            "\u001b[32m[I 2023-04-06 03:59:15,172]\u001b[0m Trial 34 finished with value: 0.9722645534897896 and parameters: {'n_estimators': 140, 'max_depth': 24, 'min_samples_leaf': 3}. Best is trial 10 with value: 1.0.\u001b[0m\n",
            "\u001b[32m[I 2023-04-06 03:59:18,727]\u001b[0m Trial 35 finished with value: 0.9033434650455926 and parameters: {'n_estimators': 200, 'max_depth': 27, 'min_samples_leaf': 9}. Best is trial 10 with value: 1.0.\u001b[0m\n",
            "\u001b[32m[I 2023-04-06 03:59:22,943]\u001b[0m Trial 36 finished with value: 1.0 and parameters: {'n_estimators': 170, 'max_depth': 32, 'min_samples_leaf': 1}. Best is trial 10 with value: 1.0.\u001b[0m\n",
            "\u001b[32m[I 2023-04-06 03:59:28,267]\u001b[0m Trial 37 finished with value: 0.9914057704112953 and parameters: {'n_estimators': 150, 'max_depth': 25, 'min_samples_leaf': 2}. Best is trial 10 with value: 1.0.\u001b[0m\n",
            "\u001b[32m[I 2023-04-06 03:59:31,921]\u001b[0m Trial 38 finished with value: 0.9910961007061714 and parameters: {'n_estimators': 180, 'max_depth': 24, 'min_samples_leaf': 2}. Best is trial 10 with value: 1.0.\u001b[0m\n",
            "\u001b[32m[I 2023-04-06 03:59:33,831]\u001b[0m Trial 39 finished with value: 0.9200364852538765 and parameters: {'n_estimators': 120, 'max_depth': 22, 'min_samples_leaf': 7}. Best is trial 10 with value: 1.0.\u001b[0m\n",
            "\u001b[32m[I 2023-04-06 03:59:36,608]\u001b[0m Trial 40 finished with value: 0.973170731707317 and parameters: {'n_estimators': 150, 'max_depth': 19, 'min_samples_leaf': 3}. Best is trial 10 with value: 1.0.\u001b[0m\n",
            "\u001b[32m[I 2023-04-06 03:59:41,385]\u001b[0m Trial 41 finished with value: 1.0 and parameters: {'n_estimators': 190, 'max_depth': 22, 'min_samples_leaf': 1}. Best is trial 10 with value: 1.0.\u001b[0m\n",
            "\u001b[32m[I 2023-04-06 03:59:45,795]\u001b[0m Trial 42 finished with value: 1.0 and parameters: {'n_estimators': 190, 'max_depth': 20, 'min_samples_leaf': 1}. Best is trial 10 with value: 1.0.\u001b[0m\n",
            "\u001b[32m[I 2023-04-06 03:59:49,954]\u001b[0m Trial 43 finished with value: 1.0 and parameters: {'n_estimators': 200, 'max_depth': 26, 'min_samples_leaf': 1}. Best is trial 10 with value: 1.0.\u001b[0m\n",
            "\u001b[32m[I 2023-04-06 03:59:53,388]\u001b[0m Trial 44 finished with value: 0.9904878797177048 and parameters: {'n_estimators': 170, 'max_depth': 23, 'min_samples_leaf': 2}. Best is trial 10 with value: 1.0.\u001b[0m\n",
            "\u001b[32m[I 2023-04-06 03:59:57,990]\u001b[0m Trial 45 finished with value: 1.0 and parameters: {'n_estimators': 160, 'max_depth': 22, 'min_samples_leaf': 1}. Best is trial 10 with value: 1.0.\u001b[0m\n",
            "\u001b[32m[I 2023-04-06 04:00:01,424]\u001b[0m Trial 46 finished with value: 0.955806156659555 and parameters: {'n_estimators': 190, 'max_depth': 17, 'min_samples_leaf': 4}. Best is trial 10 with value: 1.0.\u001b[0m\n",
            "\u001b[32m[I 2023-04-06 04:00:04,859]\u001b[0m Trial 47 finished with value: 0.9752822703692401 and parameters: {'n_estimators': 180, 'max_depth': 25, 'min_samples_leaf': 3}. Best is trial 10 with value: 1.0.\u001b[0m\n",
            "\u001b[32m[I 2023-04-06 04:00:07,759]\u001b[0m Trial 48 finished with value: 1.0 and parameters: {'n_estimators': 130, 'max_depth': 21, 'min_samples_leaf': 1}. Best is trial 10 with value: 1.0.\u001b[0m\n",
            "\u001b[32m[I 2023-04-06 04:00:11,316]\u001b[0m Trial 49 finished with value: 0.9111381618989653 and parameters: {'n_estimators': 160, 'max_depth': 20, 'min_samples_leaf': 8}. Best is trial 10 with value: 1.0.\u001b[0m\n"
          ]
        },
        {
          "output_type": "stream",
          "name": "stdout",
          "text": [
            "CPU times: user 2min 47s, sys: 1.3 s, total: 2min 49s\n",
            "Wall time: 2min 51s\n"
          ]
        }
      ]
    },
    {
      "cell_type": "code",
      "source": [
        "# выводим результаты на обучающей выборке\n",
        "print(\"Наилучшие значения гиперпараметров {}\".format(study.best_params))\n",
        "print(\"f1_score на обучающем наборе: {:.2f}\".format(study.best_value))"
      ],
      "metadata": {
        "colab": {
          "base_uri": "https://localhost:8080/"
        },
        "id": "h7RE9P-MpRbH",
        "outputId": "a1b6f53c-6aee-4547-af02-88ecdf02f6c8"
      },
      "execution_count": 43,
      "outputs": [
        {
          "output_type": "stream",
          "name": "stdout",
          "text": [
            "Наилучшие значения гиперпараметров {'n_estimators': 160, 'max_depth': 22, 'min_samples_leaf': 1}\n",
            "f1_score на обучающем наборе: 1.00\n"
          ]
        }
      ]
    },
    {
      "cell_type": "code",
      "source": [
        "# рассчитаем точность для тестовой выборки\n",
        "model = ensemble.RandomForestClassifier(**study.best_params,random_state=random_state, )\n",
        "model.fit(X_train, y_train)\n",
        "y_train_pred = model.predict(X_train)\n",
        "print(\"accuracy на тестовом наборе: {:.3f}\".format(model.score(X_test, y_test)))\n",
        "y_test_pred = model.predict(X_test)\n",
        "print('f1_score на тестовом наборе: {:.3f}'.format(metrics.f1_score(y_test, y_test_pred)))"
      ],
      "metadata": {
        "colab": {
          "base_uri": "https://localhost:8080/"
        },
        "id": "r891U10ypWfY",
        "outputId": "981b5144-74c2-4da1-bc38-e60535798559"
      },
      "execution_count": 44,
      "outputs": [
        {
          "output_type": "stream",
          "name": "stdout",
          "text": [
            "accuracy на тестовом наборе: 0.790\n",
            "f1_score на тестовом наборе: 0.810\n"
          ]
        }
      ]
    },
    {
      "cell_type": "markdown",
      "source": [
        "Используем кросс-валидацию при поиске с помощью Optuna:"
      ],
      "metadata": {
        "id": "Vejsy0x0ypgr"
      }
    },
    {
      "cell_type": "code",
      "source": [
        "def optuna_rf_cross(trial):\n",
        "  # задаем пространства поиска гиперпараметров\n",
        "  n_estimators = trial.suggest_int('n_estimators', 100, 200, 10)\n",
        "  max_depth = trial.suggest_int('max_depth', 15, 35, 1)\n",
        "  min_samples_leaf = trial.suggest_int('min_samples_leaf', 1, 10, 1)\n",
        "\n",
        "  # создаем модель\n",
        "  model = ensemble.RandomForestClassifier(n_estimators=n_estimators,\n",
        "                                          max_depth=max_depth,\n",
        "                                          min_samples_leaf=min_samples_leaf,\n",
        "                                          random_state=random_state)\n",
        "  \n",
        "  # обучаем модель\n",
        "  score = cross_val_score(model, X_train, y_train, cv=5, scoring=\"f1\", n_jobs=-1).mean()\n",
        "  #model.fit(X_train, y_train)\n",
        "  #score = metrics.f1_score(y_train, model.predict(X_train))\n",
        "\n",
        "  return score"
      ],
      "metadata": {
        "id": "BLrVpwC3vZw2"
      },
      "execution_count": 49,
      "outputs": []
    },
    {
      "cell_type": "code",
      "source": [
        "%%time\n",
        "# cоздаем объект исследования\n",
        "# можем напрямую указать, что нам необходимо максимизировать метрику direction=\"maximize\"\n",
        "study = optuna.create_study(study_name=\"RandomForestClassifier\", direction=\"maximize\")\n",
        "# ищем лучшую комбинацию гиперпараметров n_trials раз\n",
        "study.optimize(optuna_rf_cross, n_trials=20)"
      ],
      "metadata": {
        "colab": {
          "base_uri": "https://localhost:8080/"
        },
        "id": "kcED7n_yvZ6d",
        "outputId": "7b96baf2-c01e-4b21-b3f5-e28f0fafa0b8"
      },
      "execution_count": 50,
      "outputs": [
        {
          "output_type": "stream",
          "name": "stderr",
          "text": [
            "\u001b[32m[I 2023-04-06 04:14:02,642]\u001b[0m A new study created in memory with name: RandomForestClassifier\u001b[0m\n",
            "\u001b[32m[I 2023-04-06 04:14:08,294]\u001b[0m Trial 0 finished with value: 0.8144254419965874 and parameters: {'n_estimators': 100, 'max_depth': 16, 'min_samples_leaf': 3}. Best is trial 0 with value: 0.8144254419965874.\u001b[0m\n",
            "\u001b[32m[I 2023-04-06 04:14:18,817]\u001b[0m Trial 1 finished with value: 0.8116357854375058 and parameters: {'n_estimators': 170, 'max_depth': 23, 'min_samples_leaf': 6}. Best is trial 0 with value: 0.8144254419965874.\u001b[0m\n",
            "\u001b[32m[I 2023-04-06 04:14:29,081]\u001b[0m Trial 2 finished with value: 0.8137604253109323 and parameters: {'n_estimators': 160, 'max_depth': 16, 'min_samples_leaf': 3}. Best is trial 0 with value: 0.8144254419965874.\u001b[0m\n",
            "\u001b[32m[I 2023-04-06 04:14:34,787]\u001b[0m Trial 3 finished with value: 0.8045474352977775 and parameters: {'n_estimators': 120, 'max_depth': 15, 'min_samples_leaf': 7}. Best is trial 0 with value: 0.8144254419965874.\u001b[0m\n",
            "\u001b[32m[I 2023-04-06 04:14:45,025]\u001b[0m Trial 4 finished with value: 0.8144722739603836 and parameters: {'n_estimators': 130, 'max_depth': 25, 'min_samples_leaf': 1}. Best is trial 4 with value: 0.8144722739603836.\u001b[0m\n",
            "\u001b[32m[I 2023-04-06 04:14:52,062]\u001b[0m Trial 5 finished with value: 0.8068114885154871 and parameters: {'n_estimators': 150, 'max_depth': 23, 'min_samples_leaf': 7}. Best is trial 4 with value: 0.8144722739603836.\u001b[0m\n",
            "\u001b[32m[I 2023-04-06 04:15:05,017]\u001b[0m Trial 6 finished with value: 0.8158898363146914 and parameters: {'n_estimators': 180, 'max_depth': 24, 'min_samples_leaf': 2}. Best is trial 6 with value: 0.8158898363146914.\u001b[0m\n",
            "\u001b[32m[I 2023-04-06 04:15:12,963]\u001b[0m Trial 7 finished with value: 0.8095360556355915 and parameters: {'n_estimators': 120, 'max_depth': 34, 'min_samples_leaf': 3}. Best is trial 6 with value: 0.8158898363146914.\u001b[0m\n",
            "\u001b[32m[I 2023-04-06 04:15:20,152]\u001b[0m Trial 8 finished with value: 0.8066744008632443 and parameters: {'n_estimators': 130, 'max_depth': 29, 'min_samples_leaf': 5}. Best is trial 6 with value: 0.8158898363146914.\u001b[0m\n",
            "\u001b[32m[I 2023-04-06 04:15:30,534]\u001b[0m Trial 9 finished with value: 0.8056415057831977 and parameters: {'n_estimators': 180, 'max_depth': 16, 'min_samples_leaf': 7}. Best is trial 6 with value: 0.8158898363146914.\u001b[0m\n",
            "\u001b[32m[I 2023-04-06 04:15:39,059]\u001b[0m Trial 10 finished with value: 0.8014839127616998 and parameters: {'n_estimators': 200, 'max_depth': 30, 'min_samples_leaf': 10}. Best is trial 6 with value: 0.8158898363146914.\u001b[0m\n",
            "\u001b[32m[I 2023-04-06 04:15:53,765]\u001b[0m Trial 11 finished with value: 0.8186055877987742 and parameters: {'n_estimators': 200, 'max_depth': 26, 'min_samples_leaf': 1}. Best is trial 11 with value: 0.8186055877987742.\u001b[0m\n",
            "\u001b[32m[I 2023-04-06 04:16:08,345]\u001b[0m Trial 12 finished with value: 0.81784327752416 and parameters: {'n_estimators': 200, 'max_depth': 20, 'min_samples_leaf': 1}. Best is trial 11 with value: 0.8186055877987742.\u001b[0m\n",
            "\u001b[32m[I 2023-04-06 04:16:22,961]\u001b[0m Trial 13 finished with value: 0.81784327752416 and parameters: {'n_estimators': 200, 'max_depth': 20, 'min_samples_leaf': 1}. Best is trial 11 with value: 0.8186055877987742.\u001b[0m\n",
            "\u001b[32m[I 2023-04-06 04:16:35,692]\u001b[0m Trial 14 finished with value: 0.8135665746077269 and parameters: {'n_estimators': 200, 'max_depth': 20, 'min_samples_leaf': 4}. Best is trial 11 with value: 0.8186055877987742.\u001b[0m\n",
            "\u001b[32m[I 2023-04-06 04:16:49,169]\u001b[0m Trial 15 finished with value: 0.8173771891027789 and parameters: {'n_estimators': 180, 'max_depth': 28, 'min_samples_leaf': 1}. Best is trial 11 with value: 0.8186055877987742.\u001b[0m\n",
            "\u001b[32m[I 2023-04-06 04:16:57,918]\u001b[0m Trial 16 finished with value: 0.7998817199345931 and parameters: {'n_estimators': 190, 'max_depth': 19, 'min_samples_leaf': 10}. Best is trial 11 with value: 0.8186055877987742.\u001b[0m\n",
            "\u001b[32m[I 2023-04-06 04:17:08,411]\u001b[0m Trial 17 finished with value: 0.8158016432706484 and parameters: {'n_estimators': 160, 'max_depth': 27, 'min_samples_leaf': 2}. Best is trial 11 with value: 0.8186055877987742.\u001b[0m\n",
            "\u001b[32m[I 2023-04-06 04:17:20,628]\u001b[0m Trial 18 finished with value: 0.8128673683855272 and parameters: {'n_estimators': 190, 'max_depth': 32, 'min_samples_leaf': 4}. Best is trial 11 with value: 0.8186055877987742.\u001b[0m\n",
            "\u001b[32m[I 2023-04-06 04:17:31,835]\u001b[0m Trial 19 finished with value: 0.815948013779504 and parameters: {'n_estimators': 160, 'max_depth': 26, 'min_samples_leaf': 2}. Best is trial 11 with value: 0.8186055877987742.\u001b[0m\n"
          ]
        },
        {
          "output_type": "stream",
          "name": "stdout",
          "text": [
            "CPU times: user 2 s, sys: 592 ms, total: 2.59 s\n",
            "Wall time: 3min 29s\n"
          ]
        }
      ]
    },
    {
      "cell_type": "code",
      "source": [
        "# выводим результаты на обучающей выборке\n",
        "print(\"Наилучшие значения гиперпараметров {}\".format(study.best_params))\n",
        "print(\"f1_score на обучающем наборе: {:.2f}\".format(study.best_value))"
      ],
      "metadata": {
        "colab": {
          "base_uri": "https://localhost:8080/"
        },
        "id": "-KoFumofwSH4",
        "outputId": "3bae5115-6b57-4720-8b79-75b4dc39af09"
      },
      "execution_count": 51,
      "outputs": [
        {
          "output_type": "stream",
          "name": "stdout",
          "text": [
            "Наилучшие значения гиперпараметров {'n_estimators': 200, 'max_depth': 26, 'min_samples_leaf': 1}\n",
            "f1_score на обучающем наборе: 0.82\n"
          ]
        }
      ]
    },
    {
      "cell_type": "code",
      "source": [
        "# рассчитаем точность для тестовой выборки\n",
        "model = ensemble.RandomForestClassifier(**study.best_params,random_state=random_state, )\n",
        "model.fit(X_train, y_train)\n",
        "y_train_pred = model.predict(X_train)\n",
        "print(\"accuracy на тестовом наборе: {:.3f}\".format(model.score(X_test, y_test)))\n",
        "y_test_pred = model.predict(X_test)\n",
        "print('f1_score на тестовом наборе: {:.3f}'.format(metrics.f1_score(y_test, y_test_pred)))"
      ],
      "metadata": {
        "colab": {
          "base_uri": "https://localhost:8080/"
        },
        "id": "NzOuAZShwXPP",
        "outputId": "7e3c3fab-a0a9-48a1-bf1c-edc79c9c667b"
      },
      "execution_count": 52,
      "outputs": [
        {
          "output_type": "stream",
          "name": "stdout",
          "text": [
            "accuracy на тестовом наборе: 0.788\n",
            "f1_score на тестовом наборе: 0.809\n"
          ]
        }
      ]
    },
    {
      "cell_type": "markdown",
      "source": [
        "Таким образом, модель Случайный лес в целом показала лучшие результаты по сравнению с Логистической регрессией. \n",
        "\n",
        "Поиск гиперпараметров с использованием продвинутых методов существенно экономичнее по времени, чем с помощью базовых методов.\n",
        "\n",
        "Поиска гиперпараметров разными способами дал практически одинаковые результаты. Для логистической регрессии они полностью совпали. Для случайного леса совпали частично.\n",
        "\n"
      ],
      "metadata": {
        "id": "T1ynnFaLzTyu"
      }
    },
    {
      "cell_type": "code",
      "source": [],
      "metadata": {
        "id": "JrJftP_sqQqw"
      },
      "execution_count": null,
      "outputs": []
    }
  ]
}